{
 "cells": [
  {
   "cell_type": "code",
   "execution_count": 31,
   "metadata": {},
   "outputs": [],
   "source": [
    "import pandas as pd\n",
    "from ast import literal_eval\n",
    "import random"
   ]
  },
  {
   "cell_type": "markdown",
   "metadata": {},
   "source": [
    "### Load employees' names and their skills"
   ]
  },
  {
   "cell_type": "code",
   "execution_count": 26,
   "metadata": {
    "scrolled": true
   },
   "outputs": [
    {
     "data": {
      "text/html": [
       "<div>\n",
       "<style scoped>\n",
       "    .dataframe tbody tr th:only-of-type {\n",
       "        vertical-align: middle;\n",
       "    }\n",
       "\n",
       "    .dataframe tbody tr th {\n",
       "        vertical-align: top;\n",
       "    }\n",
       "\n",
       "    .dataframe thead th {\n",
       "        text-align: right;\n",
       "    }\n",
       "</style>\n",
       "<table border=\"1\" class=\"dataframe\">\n",
       "  <thead>\n",
       "    <tr style=\"text-align: right;\">\n",
       "      <th></th>\n",
       "      <th>name</th>\n",
       "      <th>skills</th>\n",
       "    </tr>\n",
       "    <tr>\n",
       "      <th>id</th>\n",
       "      <th></th>\n",
       "      <th></th>\n",
       "    </tr>\n",
       "  </thead>\n",
       "  <tbody>\n",
       "    <tr>\n",
       "      <th>1</th>\n",
       "      <td>Piper Dingledine</td>\n",
       "      <td>[Sales tactic, Storytelling, Relation building]</td>\n",
       "    </tr>\n",
       "    <tr>\n",
       "      <th>2</th>\n",
       "      <td>Dennis Cardenas</td>\n",
       "      <td>[Strategic Thinking, Communication, Decision M...</td>\n",
       "    </tr>\n",
       "    <tr>\n",
       "      <th>3</th>\n",
       "      <td>William Mooney</td>\n",
       "      <td>[Perseverance, Self-Motivation, Independence]</td>\n",
       "    </tr>\n",
       "    <tr>\n",
       "      <th>4</th>\n",
       "      <td>Ashley Rifkin</td>\n",
       "      <td>[Sales tactic, Storytelling, Relation building]</td>\n",
       "    </tr>\n",
       "    <tr>\n",
       "      <th>5</th>\n",
       "      <td>Lisa Yruegas</td>\n",
       "      <td>[Strategic Thinking, Communication, Decision M...</td>\n",
       "    </tr>\n",
       "  </tbody>\n",
       "</table>\n",
       "</div>"
      ],
      "text/plain": [
       "                name                                             skills\n",
       "id                                                                     \n",
       "1   Piper Dingledine    [Sales tactic, Storytelling, Relation building]\n",
       "2    Dennis Cardenas  [Strategic Thinking, Communication, Decision M...\n",
       "3     William Mooney      [Perseverance, Self-Motivation, Independence]\n",
       "4      Ashley Rifkin    [Sales tactic, Storytelling, Relation building]\n",
       "5       Lisa Yruegas  [Strategic Thinking, Communication, Decision M..."
      ]
     },
     "execution_count": 26,
     "metadata": {},
     "output_type": "execute_result"
    }
   ],
   "source": [
    "df = pd.read_csv(\"Employees.csv\", header=None, index_col=0, usecols=[0, 1, 6], converters={6: literal_eval})\n",
    "df.columns = [\"name\", \"skills\"]\n",
    "df.index.names = [\"id\"]\n",
    "df.head()"
   ]
  },
  {
   "cell_type": "markdown",
   "metadata": {},
   "source": [
    "### Create employees' ratings"
   ]
  },
  {
   "cell_type": "code",
   "execution_count": 37,
   "metadata": {},
   "outputs": [
    {
     "data": {
      "text/html": [
       "<div>\n",
       "<style scoped>\n",
       "    .dataframe tbody tr th:only-of-type {\n",
       "        vertical-align: middle;\n",
       "    }\n",
       "\n",
       "    .dataframe tbody tr th {\n",
       "        vertical-align: top;\n",
       "    }\n",
       "\n",
       "    .dataframe thead th {\n",
       "        text-align: right;\n",
       "    }\n",
       "</style>\n",
       "<table border=\"1\" class=\"dataframe\">\n",
       "  <thead>\n",
       "    <tr style=\"text-align: right;\">\n",
       "      <th></th>\n",
       "      <th>name</th>\n",
       "      <th>skills</th>\n",
       "      <th>rating</th>\n",
       "    </tr>\n",
       "    <tr>\n",
       "      <th>id</th>\n",
       "      <th></th>\n",
       "      <th></th>\n",
       "      <th></th>\n",
       "    </tr>\n",
       "  </thead>\n",
       "  <tbody>\n",
       "    <tr>\n",
       "      <th>1</th>\n",
       "      <td>Piper Dingledine</td>\n",
       "      <td>[Sales tactic, Storytelling, Relation building]</td>\n",
       "      <td>5.9</td>\n",
       "    </tr>\n",
       "    <tr>\n",
       "      <th>2</th>\n",
       "      <td>Dennis Cardenas</td>\n",
       "      <td>[Strategic Thinking, Communication, Decision M...</td>\n",
       "      <td>9.7</td>\n",
       "    </tr>\n",
       "    <tr>\n",
       "      <th>3</th>\n",
       "      <td>William Mooney</td>\n",
       "      <td>[Perseverance, Self-Motivation, Independence]</td>\n",
       "      <td>7.0</td>\n",
       "    </tr>\n",
       "    <tr>\n",
       "      <th>4</th>\n",
       "      <td>Ashley Rifkin</td>\n",
       "      <td>[Sales tactic, Storytelling, Relation building]</td>\n",
       "      <td>4.5</td>\n",
       "    </tr>\n",
       "    <tr>\n",
       "      <th>5</th>\n",
       "      <td>Lisa Yruegas</td>\n",
       "      <td>[Strategic Thinking, Communication, Decision M...</td>\n",
       "      <td>4.5</td>\n",
       "    </tr>\n",
       "  </tbody>\n",
       "</table>\n",
       "</div>"
      ],
      "text/plain": [
       "                name                                             skills  \\\n",
       "id                                                                        \n",
       "1   Piper Dingledine    [Sales tactic, Storytelling, Relation building]   \n",
       "2    Dennis Cardenas  [Strategic Thinking, Communication, Decision M...   \n",
       "3     William Mooney      [Perseverance, Self-Motivation, Independence]   \n",
       "4      Ashley Rifkin    [Sales tactic, Storytelling, Relation building]   \n",
       "5       Lisa Yruegas  [Strategic Thinking, Communication, Decision M...   \n",
       "\n",
       "    rating  \n",
       "id          \n",
       "1      5.9  \n",
       "2      9.7  \n",
       "3      7.0  \n",
       "4      4.5  \n",
       "5      4.5  "
      ]
     },
     "execution_count": 37,
     "metadata": {},
     "output_type": "execute_result"
    }
   ],
   "source": [
    "df[\"rating\"] = [round(random.uniform(4, 10), 1) for i in range(len(df))]\n",
    "df.to_csv(\"Employees_skills.csv\")\n",
    "df.head()"
   ]
  },
  {
   "cell_type": "markdown",
   "metadata": {},
   "source": [
    "### Display all skills"
   ]
  },
  {
   "cell_type": "code",
   "execution_count": 30,
   "metadata": {
    "scrolled": true
   },
   "outputs": [
    {
     "name": "stdout",
     "output_type": "stream",
     "text": [
      "All skills:\n",
      "{'Strategic Planning', 'Strategic Thinking', 'Conference', 'Perseverance', 'Storytelling', 'Hiring', 'Communication', 'Problem solving', 'Relation building', 'Office supplies', 'Events', 'Automation', 'Budgeting', 'Drinking', 'Linux', 'Recruitment', 'People Management', 'Daily technologies', 'Sales tactic', 'Self-Motivation', 'Decision Making', 'Independence'}\n"
     ]
    }
   ],
   "source": [
    "skills = df.skills.tolist()\n",
    "skillset = set().union(*skills)\n",
    "print(f\"All skills:\\n{skillset}\")"
   ]
  },
  {
   "cell_type": "markdown",
   "metadata": {},
   "source": [
    "### Create projects that require 3 skills each"
   ]
  },
  {
   "cell_type": "code",
   "execution_count": 38,
   "metadata": {},
   "outputs": [
    {
     "data": {
      "text/html": [
       "<div>\n",
       "<style scoped>\n",
       "    .dataframe tbody tr th:only-of-type {\n",
       "        vertical-align: middle;\n",
       "    }\n",
       "\n",
       "    .dataframe tbody tr th {\n",
       "        vertical-align: top;\n",
       "    }\n",
       "\n",
       "    .dataframe thead th {\n",
       "        text-align: right;\n",
       "    }\n",
       "</style>\n",
       "<table border=\"1\" class=\"dataframe\">\n",
       "  <thead>\n",
       "    <tr style=\"text-align: right;\">\n",
       "      <th></th>\n",
       "      <th>project name</th>\n",
       "      <th>skills</th>\n",
       "    </tr>\n",
       "  </thead>\n",
       "  <tbody>\n",
       "    <tr>\n",
       "      <th>0</th>\n",
       "      <td>Project #0</td>\n",
       "      <td>[Budgeting, Strategic Planning, Storytelling]</td>\n",
       "    </tr>\n",
       "    <tr>\n",
       "      <th>1</th>\n",
       "      <td>Project #1</td>\n",
       "      <td>[Storytelling, Conference, People Management]</td>\n",
       "    </tr>\n",
       "    <tr>\n",
       "      <th>2</th>\n",
       "      <td>Project #2</td>\n",
       "      <td>[Hiring, Conference, Linux]</td>\n",
       "    </tr>\n",
       "    <tr>\n",
       "      <th>3</th>\n",
       "      <td>Project #3</td>\n",
       "      <td>[Office supplies, Events, Strategic Thinking]</td>\n",
       "    </tr>\n",
       "    <tr>\n",
       "      <th>4</th>\n",
       "      <td>Project #4</td>\n",
       "      <td>[Automation, Storytelling, Communication]</td>\n",
       "    </tr>\n",
       "  </tbody>\n",
       "</table>\n",
       "</div>"
      ],
      "text/plain": [
       "  project name                                         skills\n",
       "0   Project #0  [Budgeting, Strategic Planning, Storytelling]\n",
       "1   Project #1  [Storytelling, Conference, People Management]\n",
       "2   Project #2                    [Hiring, Conference, Linux]\n",
       "3   Project #3  [Office supplies, Events, Strategic Thinking]\n",
       "4   Project #4      [Automation, Storytelling, Communication]"
      ]
     },
     "execution_count": 38,
     "metadata": {},
     "output_type": "execute_result"
    }
   ],
   "source": [
    "proj_names = [f\"Project #{i}\" for i in range(20)]\n",
    "proj_skills = [random.sample(skillset, k=3) for i in range(20)]\n",
    "proj_df = pd.DataFrame({\"project name\": proj_names,\n",
    "                        \"skills\": proj_skills})\n",
    "proj_df.to_csv(\"Projects.csv\")\n",
    "proj_df.head()"
   ]
  },
  {
   "cell_type": "code",
   "execution_count": null,
   "metadata": {},
   "outputs": [],
   "source": []
  }
 ],
 "metadata": {
  "kernelspec": {
   "display_name": "Python 3",
   "language": "python",
   "name": "python3"
  },
  "language_info": {
   "codemirror_mode": {
    "name": "ipython",
    "version": 3
   },
   "file_extension": ".py",
   "mimetype": "text/x-python",
   "name": "python",
   "nbconvert_exporter": "python",
   "pygments_lexer": "ipython3",
   "version": "3.7.9"
  }
 },
 "nbformat": 4,
 "nbformat_minor": 4
}
