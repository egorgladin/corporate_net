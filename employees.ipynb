{
 "cells": [
  {
   "cell_type": "code",
   "execution_count": 1,
   "metadata": {},
   "outputs": [],
   "source": [
    "import pandas as pd\n",
    "from ast import literal_eval\n",
    "import random"
   ]
  },
  {
   "cell_type": "markdown",
   "metadata": {},
   "source": [
    "### Load employees' names and their skills"
   ]
  },
  {
   "cell_type": "code",
   "execution_count": 3,
   "metadata": {
    "scrolled": true
   },
   "outputs": [
    {
     "data": {
      "text/html": [
       "<div>\n",
       "<style scoped>\n",
       "    .dataframe tbody tr th:only-of-type {\n",
       "        vertical-align: middle;\n",
       "    }\n",
       "\n",
       "    .dataframe tbody tr th {\n",
       "        vertical-align: top;\n",
       "    }\n",
       "\n",
       "    .dataframe thead th {\n",
       "        text-align: right;\n",
       "    }\n",
       "</style>\n",
       "<table border=\"1\" class=\"dataframe\">\n",
       "  <thead>\n",
       "    <tr style=\"text-align: right;\">\n",
       "      <th></th>\n",
       "      <th>name</th>\n",
       "      <th>skills</th>\n",
       "    </tr>\n",
       "    <tr>\n",
       "      <th>id</th>\n",
       "      <th></th>\n",
       "      <th></th>\n",
       "    </tr>\n",
       "  </thead>\n",
       "  <tbody>\n",
       "    <tr>\n",
       "      <th>1</th>\n",
       "      <td>Piper Dingledine</td>\n",
       "      <td>[Sales tactic, Storytelling, Relation building]</td>\n",
       "    </tr>\n",
       "    <tr>\n",
       "      <th>2</th>\n",
       "      <td>Dennis Cardenas</td>\n",
       "      <td>[Strategic Thinking, Communication, Decision M...</td>\n",
       "    </tr>\n",
       "    <tr>\n",
       "      <th>3</th>\n",
       "      <td>William Mooney</td>\n",
       "      <td>[Perseverance, Self-Motivation, Independence]</td>\n",
       "    </tr>\n",
       "    <tr>\n",
       "      <th>4</th>\n",
       "      <td>Ashley Rifkin</td>\n",
       "      <td>[Sales tactic, Storytelling, Relation building]</td>\n",
       "    </tr>\n",
       "    <tr>\n",
       "      <th>5</th>\n",
       "      <td>Lisa Yruegas</td>\n",
       "      <td>[Strategic Thinking, Communication, Decision M...</td>\n",
       "    </tr>\n",
       "  </tbody>\n",
       "</table>\n",
       "</div>"
      ],
      "text/plain": [
       "                name                                             skills\n",
       "id                                                                     \n",
       "1   Piper Dingledine    [Sales tactic, Storytelling, Relation building]\n",
       "2    Dennis Cardenas  [Strategic Thinking, Communication, Decision M...\n",
       "3     William Mooney      [Perseverance, Self-Motivation, Independence]\n",
       "4      Ashley Rifkin    [Sales tactic, Storytelling, Relation building]\n",
       "5       Lisa Yruegas  [Strategic Thinking, Communication, Decision M..."
      ]
     },
     "execution_count": 3,
     "metadata": {},
     "output_type": "execute_result"
    }
   ],
   "source": [
    "df = pd.read_csv(\"Employees.csv\", header=None, index_col=0, usecols=[0, 1, 6], converters={6: literal_eval})\n",
    "df.columns = [\"name\", \"skills\"]\n",
    "df.index.names = [\"id\"]\n",
    "df.head()"
   ]
  },
  {
   "cell_type": "markdown",
   "metadata": {},
   "source": [
    "### Create employees' ratings"
   ]
  },
  {
   "cell_type": "code",
   "execution_count": 4,
   "metadata": {},
   "outputs": [
    {
     "data": {
      "text/html": [
       "<div>\n",
       "<style scoped>\n",
       "    .dataframe tbody tr th:only-of-type {\n",
       "        vertical-align: middle;\n",
       "    }\n",
       "\n",
       "    .dataframe tbody tr th {\n",
       "        vertical-align: top;\n",
       "    }\n",
       "\n",
       "    .dataframe thead th {\n",
       "        text-align: right;\n",
       "    }\n",
       "</style>\n",
       "<table border=\"1\" class=\"dataframe\">\n",
       "  <thead>\n",
       "    <tr style=\"text-align: right;\">\n",
       "      <th></th>\n",
       "      <th>name</th>\n",
       "      <th>skills</th>\n",
       "      <th>rating</th>\n",
       "    </tr>\n",
       "    <tr>\n",
       "      <th>id</th>\n",
       "      <th></th>\n",
       "      <th></th>\n",
       "      <th></th>\n",
       "    </tr>\n",
       "  </thead>\n",
       "  <tbody>\n",
       "    <tr>\n",
       "      <th>1</th>\n",
       "      <td>Piper Dingledine</td>\n",
       "      <td>[Sales tactic, Storytelling, Relation building]</td>\n",
       "      <td>6.4</td>\n",
       "    </tr>\n",
       "    <tr>\n",
       "      <th>2</th>\n",
       "      <td>Dennis Cardenas</td>\n",
       "      <td>[Strategic Thinking, Communication, Decision M...</td>\n",
       "      <td>6.9</td>\n",
       "    </tr>\n",
       "    <tr>\n",
       "      <th>3</th>\n",
       "      <td>William Mooney</td>\n",
       "      <td>[Perseverance, Self-Motivation, Independence]</td>\n",
       "      <td>4.7</td>\n",
       "    </tr>\n",
       "    <tr>\n",
       "      <th>4</th>\n",
       "      <td>Ashley Rifkin</td>\n",
       "      <td>[Sales tactic, Storytelling, Relation building]</td>\n",
       "      <td>6.7</td>\n",
       "    </tr>\n",
       "    <tr>\n",
       "      <th>5</th>\n",
       "      <td>Lisa Yruegas</td>\n",
       "      <td>[Strategic Thinking, Communication, Decision M...</td>\n",
       "      <td>8.0</td>\n",
       "    </tr>\n",
       "  </tbody>\n",
       "</table>\n",
       "</div>"
      ],
      "text/plain": [
       "                name                                             skills  \\\n",
       "id                                                                        \n",
       "1   Piper Dingledine    [Sales tactic, Storytelling, Relation building]   \n",
       "2    Dennis Cardenas  [Strategic Thinking, Communication, Decision M...   \n",
       "3     William Mooney      [Perseverance, Self-Motivation, Independence]   \n",
       "4      Ashley Rifkin    [Sales tactic, Storytelling, Relation building]   \n",
       "5       Lisa Yruegas  [Strategic Thinking, Communication, Decision M...   \n",
       "\n",
       "    rating  \n",
       "id          \n",
       "1      6.4  \n",
       "2      6.9  \n",
       "3      4.7  \n",
       "4      6.7  \n",
       "5      8.0  "
      ]
     },
     "execution_count": 4,
     "metadata": {},
     "output_type": "execute_result"
    }
   ],
   "source": [
    "df[\"rating\"] = [round(random.uniform(4, 10), 1) for i in range(len(df))]\n",
    "df.to_csv(\"Employees_skills.csv\")\n",
    "df.head()"
   ]
  },
  {
   "cell_type": "markdown",
   "metadata": {},
   "source": [
    "### Display all skills"
   ]
  },
  {
   "cell_type": "code",
   "execution_count": 5,
   "metadata": {
    "scrolled": true
   },
   "outputs": [
    {
     "name": "stdout",
     "output_type": "stream",
     "text": [
      "All skills:\n",
      "{'Perseverance', 'Self-Motivation', 'Automation', 'Strategic Thinking', 'Drinking', 'Daily technologies', 'Budgeting', 'Conference', 'Strategic Planning', 'Storytelling', 'Decision Making', 'Sales tactic', 'Hiring', 'Recruitment', 'Relation building', 'Linux', 'Communication', 'Office supplies', 'People Management', 'Events', 'Problem solving', 'Independence'}\n"
     ]
    }
   ],
   "source": [
    "skills = df.skills.tolist()\n",
    "skillset = set().union(*skills)\n",
    "print(f\"All skills:\\n{skillset}\")"
   ]
  },
  {
   "cell_type": "markdown",
   "metadata": {},
   "source": [
    "### Create projects that require 3 skills each"
   ]
  },
  {
   "cell_type": "code",
   "execution_count": 11,
   "metadata": {},
   "outputs": [
    {
     "data": {
      "text/html": [
       "<div>\n",
       "<style scoped>\n",
       "    .dataframe tbody tr th:only-of-type {\n",
       "        vertical-align: middle;\n",
       "    }\n",
       "\n",
       "    .dataframe tbody tr th {\n",
       "        vertical-align: top;\n",
       "    }\n",
       "\n",
       "    .dataframe thead th {\n",
       "        text-align: right;\n",
       "    }\n",
       "</style>\n",
       "<table border=\"1\" class=\"dataframe\">\n",
       "  <thead>\n",
       "    <tr style=\"text-align: right;\">\n",
       "      <th></th>\n",
       "      <th>project name</th>\n",
       "      <th>skills</th>\n",
       "    </tr>\n",
       "  </thead>\n",
       "  <tbody>\n",
       "    <tr>\n",
       "      <th>0</th>\n",
       "      <td>Project #0</td>\n",
       "      <td>[Strategic Thinking, Problem solving, Automation]</td>\n",
       "    </tr>\n",
       "    <tr>\n",
       "      <th>1</th>\n",
       "      <td>Project #1</td>\n",
       "      <td>[Recruitment, Drinking, Budgeting]</td>\n",
       "    </tr>\n",
       "    <tr>\n",
       "      <th>2</th>\n",
       "      <td>Project #2</td>\n",
       "      <td>[Budgeting, Communication, People Management]</td>\n",
       "    </tr>\n",
       "    <tr>\n",
       "      <th>3</th>\n",
       "      <td>Project #3</td>\n",
       "      <td>[Independence, Strategic Thinking, Budgeting]</td>\n",
       "    </tr>\n",
       "    <tr>\n",
       "      <th>4</th>\n",
       "      <td>Project #4</td>\n",
       "      <td>[Events, Recruitment, Conference]</td>\n",
       "    </tr>\n",
       "  </tbody>\n",
       "</table>\n",
       "</div>"
      ],
      "text/plain": [
       "  project name                                             skills\n",
       "0   Project #0  [Strategic Thinking, Problem solving, Automation]\n",
       "1   Project #1                 [Recruitment, Drinking, Budgeting]\n",
       "2   Project #2      [Budgeting, Communication, People Management]\n",
       "3   Project #3      [Independence, Strategic Thinking, Budgeting]\n",
       "4   Project #4                  [Events, Recruitment, Conference]"
      ]
     },
     "execution_count": 11,
     "metadata": {},
     "output_type": "execute_result"
    }
   ],
   "source": [
    "nb_proj = 50\n",
    "nb_skills = 3\n",
    "proj_names = [f\"Project #{i}\" for i in range(nb_proj)]\n",
    "proj_skills = [random.sample(skillset, k=nb_skills) for i in range(nb_proj)]\n",
    "proj_df = pd.DataFrame({\"project name\": proj_names,\n",
    "                        \"skills\": proj_skills})\n",
    "proj_df.to_csv(\"Projects.csv\")\n",
    "proj_df.head()"
   ]
  },
  {
   "cell_type": "code",
   "execution_count": null,
   "metadata": {},
   "outputs": [],
   "source": []
  }
 ],
 "metadata": {
  "kernelspec": {
   "display_name": "Python 3",
   "language": "python",
   "name": "python3"
  },
  "language_info": {
   "codemirror_mode": {
    "name": "ipython",
    "version": 3
   },
   "file_extension": ".py",
   "mimetype": "text/x-python",
   "name": "python",
   "nbconvert_exporter": "python",
   "pygments_lexer": "ipython3",
   "version": "3.7.9"
  }
 },
 "nbformat": 4,
 "nbformat_minor": 4
}
